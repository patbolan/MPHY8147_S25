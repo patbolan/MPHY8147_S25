{
  "nbformat": 4,
  "nbformat_minor": 0,
  "metadata": {
    "colab": {
      "provenance": [],
      "include_colab_link": true
    },
    "kernelspec": {
      "name": "python3",
      "display_name": "Python 3"
    },
    "language_info": {
      "name": "python"
    }
  },
  "cells": [
    {
      "cell_type": "markdown",
      "metadata": {
        "id": "view-in-github",
        "colab_type": "text"
      },
      "source": [
        "<a href=\"https://colab.research.google.com/github/patbolan/MPHY8147_S25/blob/main/Bloch_Simulation/plot_fid_analytical.ipynb\" target=\"_parent\"><img src=\"https://colab.research.google.com/assets/colab-badge.svg\" alt=\"Open In Colab\"/></a>"
      ]
    },
    {
      "cell_type": "code",
      "execution_count": null,
      "metadata": {
        "id": "U_t6DwGp4XX0"
      },
      "outputs": [],
      "source": [
        "# Plot the analytical expression for a simple FID\n",
        "import numpy as np\n",
        "import matplotlib.pyplot as plt\n",
        "\n",
        "# Consider a 0.5T MR system\n",
        "f0 = 42.58E6 * 0.5 # 1H Larmor Frequency at 0.5T, Hz\n",
        "dT = 0.0001 # Sampling period, in seconds\n",
        "BW = 1/dT # Hz\n",
        "time_s = np.arange(0, 0.1, dT) # time = 0 --> 100ms\n",
        "\n",
        "# Now simulate an exponentially decaying sinusoid\n",
        "T2 = 0.020 # 20 ms\n",
        "S0 = 1 # Initial signal at t=0\n",
        "offset = 100 # Hz Let it be a little off-resonance\n",
        "\n",
        "# Signal in rotating frame\n",
        "s = S0 * np.exp(-time_s / T2) * np.exp(-1j * 2 * np.pi * offset * time_s)\n",
        "\n",
        "plt.plot(time_s, np.real(s), 'k')\n",
        "plt.plot(time_s, np.imag(s), 'b')\n",
        "plt.plot(time_s, np.abs(s), ':r')\n",
        "plt.legend(['real', 'imaginary','abs'])\n",
        "plt.show()\n"
      ]
    },
    {
      "cell_type": "code",
      "source": [
        "# Not as easy to do a 3D rotatable plot in jupyter. There are ways! But not elegant\n",
        "fig = plt.figure()\n",
        "ax = plt.axes(projection='3d')\n",
        "ax.scatter3D(np.real(s), np.imag(s), time_s)\n",
        "ax.view_init(elev=30, azim=40, )\n",
        "plt.xlabel('real')\n",
        "plt.ylabel('imag')\n",
        "plt.show()\n"
      ],
      "metadata": {
        "id": "KlpuIcwK49M2",
        "collapsed": true
      },
      "execution_count": null,
      "outputs": []
    },
    {
      "cell_type": "code",
      "source": [
        "# 1D FT to look at this in frequency domain - a spectrum\n",
        "\n",
        "# Before a FT we scale the first point of an FID by 1/2. This is a subtle\n",
        "# effect that is often ignored. (G Otting et al, JMR 66 p187 1986)\n",
        "s_temp = s\n",
        "s_temp[0] = s_temp[0] * 0.5\n",
        "spec = np.fft.fftshift(np.fft.fft(s_temp))\n",
        "\n",
        "# Calculate frequency axis\n",
        "SW = 1/dT\n",
        "Npoints = len(time_s)\n",
        "dFreq = SW/(Npoints)\n",
        "freqax = np.arange(-SW/2, SW/2, dFreq) - dFreq/2\n",
        "plt.plot(freqax,np.real(spec), 'k')\n",
        "\n",
        "plt.plot(freqax,np.real(spec), 'k')\n",
        "plt.plot(freqax,np.imag(spec), 'b')\n",
        "plt.legend(['real', 'imag'])\n",
        "plt.xlim([-500, 500])\n",
        "plt.show()"
      ],
      "metadata": {
        "id": "z7wU0zvABlqU"
      },
      "execution_count": null,
      "outputs": []
    },
    {
      "cell_type": "code",
      "source": [],
      "metadata": {
        "id": "rEWcN-vTB3Y9"
      },
      "execution_count": null,
      "outputs": []
    }
  ]
}