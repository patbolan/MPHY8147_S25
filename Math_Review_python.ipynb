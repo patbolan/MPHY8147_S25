{
  "nbformat": 4,
  "nbformat_minor": 0,
  "metadata": {
    "colab": {
      "name": "1 Math Review.ipynb",
      "provenance": [],
      "include_colab_link": true
    },
    "kernelspec": {
      "name": "python3",
      "display_name": "Python 3"
    },
    "language_info": {
      "name": "python"
    }
  },
  "cells": [
    {
      "cell_type": "markdown",
      "metadata": {
        "id": "view-in-github",
        "colab_type": "text"
      },
      "source": [
        "<a href=\"https://colab.research.google.com/github/patbolan/MPHY8147_S25/blob/main/Math_Review_python.ipynb\" target=\"_parent\"><img src=\"https://colab.research.google.com/assets/colab-badge.svg\" alt=\"Open In Colab\"/></a>"
      ]
    },
    {
      "cell_type": "markdown",
      "metadata": {
        "id": "ymfo5RCtJNiv"
      },
      "source": [
        "# 1 Math Review\n",
        "This notebook mirrors the example Matlab code in the Math Review handout.\n"
      ]
    },
    {
      "cell_type": "markdown",
      "source": [
        "Testing, 2022"
      ],
      "metadata": {
        "id": "jAeQ-L6hUq-b"
      }
    },
    {
      "cell_type": "code",
      "metadata": {
        "id": "AhXrwoXqIvCx"
      },
      "source": [
        "# Complex numbers. Note how the way you access fundamentals is heterogenous\n",
        "import cmath\n",
        "z = 4 + 3j # Complex types are built in to python. As in Matlab \"j\" is the imaginary sqrt(-1)\n",
        "print(z.real) # Attribute\n",
        "print(z.imag) # Attribute\n",
        "print(cmath.phase(z)) # Uses function from cmath library\n",
        "print(abs(z)) # Uses built-in function\n",
        "print(z.conjugate()) # Method\n"
      ],
      "execution_count": null,
      "outputs": []
    },
    {
      "cell_type": "code",
      "metadata": {
        "id": "njbFeJSTXeOw"
      },
      "source": [
        "# 3D Vectors\n",
        "# The Numpy library is\n",
        "import numpy as np\n",
        "\n",
        "# These are Python \"lists\". They work fine for 1D arrays\n",
        "A = [1, 2, 3]\n",
        "B = [4, 5, 6]\n",
        "print(np.cross(A,B))\n",
        "print(np.dot(A,B))\n",
        "print(type(A))\n",
        "\n",
        "# ... but if you're working with them like arrays, better to use np.ndarray objects\n",
        "x = np.array(A)\n",
        "y = np.array(B)\n",
        "print(np.cross(x,y))\n",
        "print(np.dot(x,y))\n",
        "print(type(x))\n",
        "\n",
        "# Most importantly, Python indexing is 0-based like C, not 1-based like matlab\n",
        "print(x[0])\n"
      ],
      "execution_count": null,
      "outputs": []
    },
    {
      "cell_type": "code",
      "metadata": {
        "id": "h96S1mZyaK8O"
      },
      "source": [
        "# Matrices\n",
        "a = np.array([[1-2j, 0, 1j],\n",
        "              [2, -4j, 1],\n",
        "              [6, 2, 5]])\n",
        "b = np.eye(3)\n",
        "\n",
        "c = np.multiply(a,b) # element-wise multiplication\n",
        "d = np.matmul(a,b) # standard matrix multiplication\n",
        "\n",
        "# Transpose in np is not conjugate by default (note sign of first element)\n",
        "print(a.T)\n",
        "print(a.conj().T)\n",
        "\n"
      ],
      "execution_count": null,
      "outputs": []
    },
    {
      "cell_type": "code",
      "metadata": {
        "id": "iRKsTwWEdmuX"
      },
      "source": [
        "# Solving systems of equations AX = B\n",
        "# Condsider these equations:\n",
        "#   x + y + z = 6\n",
        "#   x - y + z = 2\n",
        "#   x + 2y - z = 2\n",
        "# The solution is [1,2,3]\n",
        "A = np.array([[1, 1, 1],\n",
        "     [1, -1, 1],\n",
        "     [1, 2, -1]])\n",
        "B = np.array([[6], [2], [2]])\n",
        "\n",
        "# As in matlab, several ways of doing this:\n",
        "X = np.linalg.inv(A).dot(B)\n",
        "X = np.linalg.solve(A,B)\n",
        "X = np.linalg.pinv(A).dot(B) # Pseudo inverse, for nearly singular matrices\n",
        "\n",
        "# For overdetermined systems A is not square, need a LS soln.\n",
        "# pinv() above works, as do these LS methods\n",
        "X, residuals, rank, singular_values = np.linalg.lstsq(A, B, rcond=None)\n",
        "X, residuals, rank, singular_values = scipy.linalg.lstsq(A, B)\n",
        "print(X)"
      ],
      "execution_count": null,
      "outputs": []
    },
    {
      "cell_type": "markdown",
      "metadata": {
        "id": "J4fRAMWhg93w"
      },
      "source": [
        "### Curve fitting\n",
        "In place of Matlab's optimization toolkit, I'd recomend using the scipy optimization library. There's a nice example in the documentation here:\n",
        "https://docs.scipy.org/doc/scipy/reference/generated/scipy.optimize.curve_fit.html\n",
        "You can just cut and paste those code snippets into this notebook to see how it works"
      ]
    },
    {
      "cell_type": "markdown",
      "metadata": {
        "id": "YeVsQUYKaOtT"
      },
      "source": [
        "# Other tips for Matlab Users\n",
        "There are many resources online to get started with Python. For experienced Matlab users, this is a good reference:\n",
        "https://numpy.org/doc/stable/user/numpy-for-matlab-users.html"
      ]
    },
    {
      "cell_type": "code",
      "metadata": {
        "id": "04YSxVzcYIgp"
      },
      "source": [
        "# One of my favorite notebook tips.\n",
        "# This replicates Matlab's whos function. Not a built-in function: the \"%\"\n",
        "# is used to call \"magical\" functions supported by the notebook or execution\n",
        "# environment\n",
        "%whos"
      ],
      "execution_count": null,
      "outputs": []
    }
  ]
}